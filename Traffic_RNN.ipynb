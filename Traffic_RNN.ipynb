{
  "cells": [
    {
      "cell_type": "markdown",
      "metadata": {
        "id": "view-in-github",
        "colab_type": "text"
      },
      "source": [
        "<a href=\"https://colab.research.google.com/github/sungjindo/Traffic-prediction/blob/main/Traffic_RNN.ipynb\" target=\"_parent\"><img src=\"https://colab.research.google.com/assets/colab-badge.svg\" alt=\"Open In Colab\"/></a>"
      ]
    },
    {
      "cell_type": "markdown",
      "metadata": {
        "id": "K2Pphl66WCXH"
      },
      "source": [
        "#Dataset\n",
        "\n"
      ]
    },
    {
      "cell_type": "code",
      "execution_count": 18,
      "metadata": {
        "colab": {
          "base_uri": "https://localhost:8080/",
          "height": 55
        },
        "id": "xuQrCCfNzR_P",
        "outputId": "9e619901-f51c-4ee3-8fac-0fded5de8498"
      },
      "outputs": [
        {
          "output_type": "display_data",
          "data": {
            "text/html": [
              "        <script type=\"text/javascript\">\n",
              "        window.PlotlyConfig = {MathJaxConfig: 'local'};\n",
              "        if (window.MathJax) {MathJax.Hub.Config({SVG: {font: \"STIX-Web\"}});}\n",
              "        if (typeof require !== 'undefined') {\n",
              "        require.undef(\"plotly\");\n",
              "        requirejs.config({\n",
              "            paths: {\n",
              "                'plotly': ['https://cdn.plot.ly/plotly-2.8.3.min']\n",
              "            }\n",
              "        });\n",
              "        require(['plotly'], function(Plotly) {\n",
              "            window._Plotly = Plotly;\n",
              "        });\n",
              "        }\n",
              "        </script>\n",
              "        "
            ]
          },
          "metadata": {}
        },
        {
          "output_type": "stream",
          "name": "stdout",
          "text": [
            "Drive already mounted at /content/gdrive; to attempt to forcibly remount, call drive.mount(\"/content/gdrive\", force_remount=True).\n"
          ]
        }
      ],
      "source": [
        "# 라이브러리 임포트\n",
        "import os\n",
        "import numpy as np\n",
        "import pandas as pd\n",
        "\n",
        "import torch\n",
        "import torch.nn as nn\n",
        "from torch import autograd\n",
        "from torch.utils import data\n",
        "from torch.optim import Adam\n",
        "from google.colab import drive\n",
        "import datetime as dt\n",
        "from datetime import timedelta\n",
        "import seaborn as sns\n",
        "# from prophet import Prophet\n",
        "\n",
        "\n",
        "from plotly.offline import init_notebook_mode, iplot #plotly offline mode \n",
        "init_notebook_mode(connected = True)\n",
        "import plotly.graph_objs as go #plotly graphical object\n",
        "\n",
        "import matplotlib.pyplot as plt\n",
        "DATASET_PATH = os.path.join('/content/gdrive/MyDrive/글창사 traffic/data')\n",
        "drive.mount('/content/gdrive')"
      ]
    },
    {
      "cell_type": "code",
      "execution_count": 19,
      "metadata": {
        "id": "JT9fdJA_Zui2"
      },
      "outputs": [],
      "source": [
        "## EDA\n",
        "train=pd.read_csv(os.path.join(DATASET_PATH, 'train.csv'))\n",
        "\n",
        "val=pd.read_csv(os.path.join(DATASET_PATH, 'validate.csv'))\n",
        "\n",
        "test=pd.read_csv(os.path.join(DATASET_PATH, 'test.csv'))\n"
      ]
    },
    {
      "cell_type": "code",
      "execution_count": 20,
      "metadata": {
        "colab": {
          "base_uri": "https://localhost:8080/"
        },
        "id": "dCjJEyRgSnPV",
        "outputId": "f58b8b69-0ed3-4e9e-d25e-95288cf7b9f3"
      },
      "outputs": [
        {
          "output_type": "stream",
          "name": "stderr",
          "text": [
            "/usr/local/lib/python3.7/dist-packages/ipykernel_launcher.py:9: SettingWithCopyWarning:\n",
            "\n",
            "\n",
            "A value is trying to be set on a copy of a slice from a DataFrame\n",
            "\n",
            "See the caveats in the documentation: https://pandas.pydata.org/pandas-docs/stable/user_guide/indexing.html#returning-a-view-versus-a-copy\n",
            "\n",
            "/usr/local/lib/python3.7/dist-packages/ipykernel_launcher.py:13: SettingWithCopyWarning:\n",
            "\n",
            "\n",
            "A value is trying to be set on a copy of a slice from a DataFrame\n",
            "\n",
            "See the caveats in the documentation: https://pandas.pydata.org/pandas-docs/stable/user_guide/indexing.html#returning-a-view-versus-a-copy\n",
            "\n",
            "/usr/local/lib/python3.7/dist-packages/ipykernel_launcher.py:16: SettingWithCopyWarning:\n",
            "\n",
            "\n",
            "A value is trying to be set on a copy of a slice from a DataFrame\n",
            "\n",
            "See the caveats in the documentation: https://pandas.pydata.org/pandas-docs/stable/user_guide/indexing.html#returning-a-view-versus-a-copy\n",
            "\n"
          ]
        }
      ],
      "source": [
        "#index 날짜화 for feature\n",
        "def datesetting(train): \n",
        "    train['날짜1']=train['날짜'].astype(str)\n",
        "    train['시간1']=train['시간'].astype(str)\n",
        "    train['date']=train['날짜']+train['시간']\n",
        "\n",
        "    for i in range (0,len(train['날짜'])):\n",
        "      a= train['날짜1'][i]\n",
        "      train['날짜1'][i] =dt.datetime.strptime(a, '%Y%m%d')\n",
        "\n",
        "    for i in range(0,len(train['시간'])):\n",
        "      b= train['시간1'][i]\n",
        "      train['시간1'][i]=dt.datetime.strptime(b, '%H')\n",
        "\n",
        "    for i in range(0,len(train['날짜'])):\n",
        "      train['date'][i]=train['날짜1'][i]+timedelta(hours=train['시간1'][i].hour)\n",
        "\n",
        "\n",
        "#날짜 index 적용\n",
        "datesetting(train)\n",
        "datesetting(val)\n",
        "datesetting(test)"
      ]
    },
    {
      "cell_type": "code",
      "execution_count": 4,
      "metadata": {
        "id": "JJdlm3NzZzUg"
      },
      "outputs": [],
      "source": [
        "train=train.drop(['날짜1','시간1'],axis=1)\n",
        "val=val.drop(['날짜1','시간1'],axis=1)\n",
        "test=test.drop(['날짜1','시간1'],axis=1)\n",
        "\n",
        "\n",
        "# index 설정하여 각 기간별 columns 생성하는 함수(create_features)\n",
        "train=train.set_index('date')\n",
        "val=val.set_index('date')\n",
        "test=test.set_index('date')\n",
        "# test=test[test.index >= '2020-05-25']\n",
        "df= pd.concat([train,val])\n",
        "def create_features(df):\n",
        "    \"\"\"\n",
        "    Create time series features based on time series index.\n",
        "    \"\"\"\n",
        "    df = df.copy()\n",
        "    df['hour'] = df.index.hour\n",
        "    df['dayofweek'] = df.index.dayofweek\n",
        "    df['quarter'] = df.index.quarter\n",
        "    df['month'] = df.index.month\n",
        "    df['year'] = df.index.year\n",
        "    df['dayofyear'] = df.index.dayofyear\n",
        "    df['dayofmonth'] = df.index.day\n",
        "    # df['weekofyear'] = df.index.isocalendar().week   UIint32 형으로 출력되어 삭제함.\n",
        "    return df"
      ]
    },
    {
      "cell_type": "markdown",
      "metadata": {
        "id": "eYJmzMr3zR_a"
      },
      "source": [
        "## Model"
      ]
    },
    {
      "cell_type": "code",
      "execution_count": 5,
      "metadata": {
        "id": "OIUFtPmTWZ0z"
      },
      "outputs": [],
      "source": [
        "from torch.autograd import Variable\n",
        "\n",
        "class RNN(nn.Module):\n",
        "  def __init__(self, input_size, hidden_size, output_size):  # init 함수는 2개의 선형레이어를 초기화 한다. 하나는 출력, 다른 하나는 상태 벡터 또는 히든 벡터를 계산한다.\n",
        "    super(RNN, self).__init__()\n",
        "    self.hidden_size = hidden_size\n",
        "    self.i2h =  nn.Linear(input_size + hidden_size, hidden_size)\n",
        "    self.i2o =  nn.Linear(input_size + hidden_size, hidden_size)\n",
        "    self.softmax = nn.LogSoftmax(dim=1)\n",
        "\n",
        "    def forward(self,input, hidden):   #forward 함수는 입력 벡터와 히든 벡터를 cat함수로 결합해 출력벡터와 숨겨진 상태를 생성하는 두 선형 레이어를 통과시킨다. \n",
        "      combined = torch.cat((input, hidden), 1)\n",
        "      hidden = self.i2h(combined)\n",
        "      output = self.i2o(combined)\n",
        "      output = self.softmax(output)   # 출력 layer에는 log_softmax함수를 적용.\n",
        "      return output, hidden\n",
        "\n",
        "    def initHidden(self):   # RNN을 처음 호출할 경우에 상태 벡터를 만드는 기능을 제공한다.\n",
        "      return Variable(torch.zeros(1, self.hidden_size))\n",
        "\n",
        "# torch.cat은 두 텐서를 결합하며, 두 번째 전달 인자인 dim은 결합방향을 설정했다. 예를 들어 input이 [[1,1,],[2,2,]]이고 hidden이 [[11,11],[22,22]]라면, torch.cat((input,hidden),1)의 결과는 [[1,1,1,11,11],[2,2,22,22]]이 된다.\n"
      ]
    },
    {
      "cell_type": "markdown",
      "metadata": {
        "id": "BGWyZSuJidbC"
      },
      "source": [
        "![image.png](data:image/png;base64,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)"
      ]
    },
    {
      "cell_type": "markdown",
      "source": [
        "#Generating dataset"
      ],
      "metadata": {
        "id": "KpZNUyatAb4_"
      }
    },
    {
      "cell_type": "code",
      "source": [
        "num_data = 2400\n",
        "t = np.linspace(0.0, 100.0, num_data) \n",
        "y = np.sin(t) +np.sin(2*t)\n",
        "e = np.random.normal(0,0.1, num_data)\n",
        "print(y.shape, e.shape)\n",
        "y = y+e \n",
        "\n",
        "plt.plot(t,y)"
      ],
      "metadata": {
        "colab": {
          "base_uri": "https://localhost:8080/",
          "height": 246
        },
        "id": "XtuQFuCn-tNP",
        "outputId": "55f0d42b-a2e9-4e16-ac48-b7c3b0aed7b2"
      },
      "execution_count": 4,
      "outputs": [
        {
          "output_type": "error",
          "ename": "NameError",
          "evalue": "ignored",
          "traceback": [
            "\u001b[0;31m---------------------------------------------------------------------------\u001b[0m",
            "\u001b[0;31mNameError\u001b[0m                                 Traceback (most recent call last)",
            "\u001b[0;32m<ipython-input-4-d3dca249d770>\u001b[0m in \u001b[0;36m<module>\u001b[0;34m()\u001b[0m\n\u001b[1;32m      1\u001b[0m \u001b[0mnum_data\u001b[0m \u001b[0;34m=\u001b[0m \u001b[0;36m2400\u001b[0m\u001b[0;34m\u001b[0m\u001b[0;34m\u001b[0m\u001b[0m\n\u001b[0;32m----> 2\u001b[0;31m \u001b[0mt\u001b[0m \u001b[0;34m=\u001b[0m \u001b[0mnp\u001b[0m\u001b[0;34m.\u001b[0m\u001b[0mlinspace\u001b[0m\u001b[0;34m(\u001b[0m\u001b[0;36m0.0\u001b[0m\u001b[0;34m,\u001b[0m \u001b[0;36m100.0\u001b[0m\u001b[0;34m,\u001b[0m \u001b[0mnum_data\u001b[0m\u001b[0;34m)\u001b[0m\u001b[0;34m\u001b[0m\u001b[0;34m\u001b[0m\u001b[0m\n\u001b[0m\u001b[1;32m      3\u001b[0m \u001b[0my\u001b[0m \u001b[0;34m=\u001b[0m \u001b[0mnp\u001b[0m\u001b[0;34m.\u001b[0m\u001b[0msin\u001b[0m\u001b[0;34m(\u001b[0m\u001b[0mt\u001b[0m\u001b[0;34m)\u001b[0m \u001b[0;34m+\u001b[0m\u001b[0mnp\u001b[0m\u001b[0;34m.\u001b[0m\u001b[0msin\u001b[0m\u001b[0;34m(\u001b[0m\u001b[0;36m2\u001b[0m\u001b[0;34m*\u001b[0m\u001b[0mt\u001b[0m\u001b[0;34m)\u001b[0m\u001b[0;34m\u001b[0m\u001b[0;34m\u001b[0m\u001b[0m\n\u001b[1;32m      4\u001b[0m \u001b[0me\u001b[0m \u001b[0;34m=\u001b[0m \u001b[0mnp\u001b[0m\u001b[0;34m.\u001b[0m\u001b[0mrandom\u001b[0m\u001b[0;34m.\u001b[0m\u001b[0mnormal\u001b[0m\u001b[0;34m(\u001b[0m\u001b[0;36m0\u001b[0m\u001b[0;34m,\u001b[0m\u001b[0;36m0.1\u001b[0m\u001b[0;34m,\u001b[0m \u001b[0mnum_data\u001b[0m\u001b[0;34m)\u001b[0m\u001b[0;34m\u001b[0m\u001b[0;34m\u001b[0m\u001b[0m\n\u001b[1;32m      5\u001b[0m \u001b[0mprint\u001b[0m\u001b[0;34m(\u001b[0m\u001b[0my\u001b[0m\u001b[0;34m.\u001b[0m\u001b[0mshape\u001b[0m\u001b[0;34m,\u001b[0m \u001b[0me\u001b[0m\u001b[0;34m.\u001b[0m\u001b[0mshape\u001b[0m\u001b[0;34m)\u001b[0m\u001b[0;34m\u001b[0m\u001b[0;34m\u001b[0m\u001b[0m\n",
            "\u001b[0;31mNameError\u001b[0m: name 'np' is not defined"
          ]
        }
      ]
    },
    {
      "cell_type": "code",
      "source": [
        "seq_len = 10\n",
        "X = []\n",
        "y_true = []\n",
        "for i in range(len(t)-seq_len):\n",
        "  X.append(y[i:i+seq_len])\n",
        "  y_true.append(y[i+seq_len])\n",
        "\n",
        "\n",
        "X = np.array(X)\n",
        "y = np.array(y)\n",
        "print(y.shape)\n",
        "print(X.shape)\n",
        "# 원래는 얘네를 permutation해서 랜덤으로 섞어줘야한다.\n",
        "# lstm이나 rnn 차원 맞추는 방법은 [seq_len, batch_size, input_dim] 처음이 seq_len인 이유는 for문을 돌리기가 쉽다. \n",
        "# 각각의 time step에 대해  batch_size와 input_dim을 가져오는 형태\n",
        "\n",
        "\n",
        "# [10, 2390,1]으로 바꾸기 위해선\n",
        "X = np.swqqaxes(X,0,1)\n",
        "X = np.expand_dims(X, axis = 2)\n",
        "\n",
        "for x in X:\n",
        "  print(x.shape)\n",
        "  break\n",
        "\n"
      ],
      "metadata": {
        "colab": {
          "base_uri": "https://localhost:8080/",
          "height": 246
        },
        "id": "FT26ItEOAm9h",
        "outputId": "25c498bd-dd74-4f3c-e620-555d964a1781"
      },
      "execution_count": 3,
      "outputs": [
        {
          "output_type": "error",
          "ename": "NameError",
          "evalue": "ignored",
          "traceback": [
            "\u001b[0;31m---------------------------------------------------------------------------\u001b[0m",
            "\u001b[0;31mNameError\u001b[0m                                 Traceback (most recent call last)",
            "\u001b[0;32m<ipython-input-3-81bbc1e17e3d>\u001b[0m in \u001b[0;36m<module>\u001b[0;34m()\u001b[0m\n\u001b[1;32m      2\u001b[0m \u001b[0mX\u001b[0m \u001b[0;34m=\u001b[0m \u001b[0;34m[\u001b[0m\u001b[0;34m]\u001b[0m\u001b[0;34m\u001b[0m\u001b[0;34m\u001b[0m\u001b[0m\n\u001b[1;32m      3\u001b[0m \u001b[0my_true\u001b[0m \u001b[0;34m=\u001b[0m \u001b[0;34m[\u001b[0m\u001b[0;34m]\u001b[0m\u001b[0;34m\u001b[0m\u001b[0;34m\u001b[0m\u001b[0m\n\u001b[0;32m----> 4\u001b[0;31m \u001b[0;32mfor\u001b[0m \u001b[0mi\u001b[0m \u001b[0;32min\u001b[0m \u001b[0mrange\u001b[0m\u001b[0;34m(\u001b[0m\u001b[0mlen\u001b[0m\u001b[0;34m(\u001b[0m\u001b[0mt\u001b[0m\u001b[0;34m)\u001b[0m\u001b[0;34m-\u001b[0m\u001b[0mseq_len\u001b[0m\u001b[0;34m)\u001b[0m\u001b[0;34m:\u001b[0m\u001b[0;34m\u001b[0m\u001b[0;34m\u001b[0m\u001b[0m\n\u001b[0m\u001b[1;32m      5\u001b[0m   \u001b[0mX\u001b[0m\u001b[0;34m.\u001b[0m\u001b[0mappend\u001b[0m\u001b[0;34m(\u001b[0m\u001b[0my\u001b[0m\u001b[0;34m[\u001b[0m\u001b[0mi\u001b[0m\u001b[0;34m:\u001b[0m\u001b[0mi\u001b[0m\u001b[0;34m+\u001b[0m\u001b[0mseq_len\u001b[0m\u001b[0;34m]\u001b[0m\u001b[0;34m)\u001b[0m\u001b[0;34m\u001b[0m\u001b[0;34m\u001b[0m\u001b[0m\n\u001b[1;32m      6\u001b[0m   \u001b[0my_true\u001b[0m\u001b[0;34m.\u001b[0m\u001b[0mappend\u001b[0m\u001b[0;34m(\u001b[0m\u001b[0my\u001b[0m\u001b[0;34m[\u001b[0m\u001b[0mi\u001b[0m\u001b[0;34m+\u001b[0m\u001b[0mseq_len\u001b[0m\u001b[0;34m]\u001b[0m\u001b[0;34m)\u001b[0m\u001b[0;34m\u001b[0m\u001b[0;34m\u001b[0m\u001b[0m\n",
            "\u001b[0;31mNameError\u001b[0m: name 't' is not defined"
          ]
        }
      ]
    },
    {
      "cell_type": "markdown",
      "source": [
        "#Model define"
      ],
      "metadata": {
        "id": "TyJp6f5hAM2K"
      }
    },
    {
      "cell_type": "code",
      "source": [
        "import torch.nn as nn\n",
        "\n",
        "class RNN(nn.Module):\n",
        "  def __init__(self, input_dim, output_dim, hid_dim):\n",
        "    super(RNN, self).__init__()\n",
        "\n",
        "    self.input_dim = input_dim\n",
        "    self.output_dim = output_dim\n",
        "    self.hid_dim = hid_dim\n",
        "\n",
        "    self.u = nn.Linear(self.input_dim, self.hid_dim, bias = False)\n",
        "    self.w = nn.Linear(self.hid_dim, self.hid_dim, bias = False)\n",
        "    self.v = nn.Linear(self.hid_dim, self.output_dim, bias = False)\n",
        "    self.act = nn.tanh()\n",
        "    \n",
        "    self.hidden = self.init_hidden()\n",
        "  \n",
        "  def init_hidden(self, batch_size=None):\n",
        "    if batch_size is None :\n",
        "      batch_size = self.batch_size\n",
        "    return torch.zeros(batch_size, self.hid_dim)\n",
        "  \n",
        "  def forward(self, x):\n",
        "    h = self.act(self.u(x) + self.w(self.hidden))\n",
        "    y = self.v(h)\n",
        "    \n",
        "    return y, h\n"
      ],
      "metadata": {
        "id": "QQKG4GqcAjKd"
      },
      "execution_count": 2,
      "outputs": []
    },
    {
      "cell_type": "markdown",
      "source": [
        "#Train Trigonometric Function"
      ],
      "metadata": {
        "id": "S9xv5hlSwPsw"
      }
    },
    {
      "cell_type": "code",
      "source": [
        "model = RNN(1,1, 50, 2390)\n",
        "loss_fn = nn.MSELoss()\n",
        "optimizer = optim.SGD(model.parameters(), lr=0.005)\n",
        "epoch = 100\n",
        "\n",
        "for i in range(epoch):\n",
        "  model.train()\n",
        "  model.zero_grad()\n",
        "  optimizer.zero_grad()\n",
        "\n",
        "  model.hidden = model.init_hidden()\n",
        "\n",
        "  for x in X:\n",
        "    x = torch.Tensor(x).float()\n",
        "    y_true = torch.Tensor(y_true).float()\n",
        "\n",
        "    y_pred, hidden = model(x)\n",
        "    model.hidden = hidden\n",
        "  loss = loss_fn(y_pred.view(-1), y_true.view(-1))\n",
        "  loss.backward()\n",
        "  optimizer.step()\n",
        "  print(loss.item())"
      ],
      "metadata": {
        "colab": {
          "base_uri": "https://localhost:8080/",
          "height": 246
        },
        "id": "y693I9YBD4iE",
        "outputId": "e601ae0c-cb85-4cc6-ffb5-62ea1583300b"
      },
      "execution_count": 1,
      "outputs": [
        {
          "output_type": "error",
          "ename": "NameError",
          "evalue": "ignored",
          "traceback": [
            "\u001b[0;31m---------------------------------------------------------------------------\u001b[0m",
            "\u001b[0;31mNameError\u001b[0m                                 Traceback (most recent call last)",
            "\u001b[0;32m<ipython-input-1-d71d969eabd2>\u001b[0m in \u001b[0;36m<module>\u001b[0;34m()\u001b[0m\n\u001b[0;32m----> 1\u001b[0;31m \u001b[0mmodel\u001b[0m \u001b[0;34m=\u001b[0m \u001b[0mRNN\u001b[0m\u001b[0;34m(\u001b[0m\u001b[0;36m1\u001b[0m\u001b[0;34m,\u001b[0m\u001b[0;36m1\u001b[0m\u001b[0;34m,\u001b[0m \u001b[0;36m50\u001b[0m\u001b[0;34m,\u001b[0m \u001b[0;36m2390\u001b[0m\u001b[0;34m)\u001b[0m\u001b[0;34m\u001b[0m\u001b[0;34m\u001b[0m\u001b[0m\n\u001b[0m\u001b[1;32m      2\u001b[0m \u001b[0mloss_fn\u001b[0m \u001b[0;34m=\u001b[0m \u001b[0mnn\u001b[0m\u001b[0;34m.\u001b[0m\u001b[0mMSELoss\u001b[0m\u001b[0;34m(\u001b[0m\u001b[0;34m)\u001b[0m\u001b[0;34m\u001b[0m\u001b[0;34m\u001b[0m\u001b[0m\n\u001b[1;32m      3\u001b[0m \u001b[0moptimizer\u001b[0m \u001b[0;34m=\u001b[0m \u001b[0moptim\u001b[0m\u001b[0;34m.\u001b[0m\u001b[0mSGD\u001b[0m\u001b[0;34m(\u001b[0m\u001b[0mmodel\u001b[0m\u001b[0;34m.\u001b[0m\u001b[0mparameters\u001b[0m\u001b[0;34m(\u001b[0m\u001b[0;34m)\u001b[0m\u001b[0;34m,\u001b[0m \u001b[0mlr\u001b[0m\u001b[0;34m=\u001b[0m\u001b[0;36m0.005\u001b[0m\u001b[0;34m)\u001b[0m\u001b[0;34m\u001b[0m\u001b[0;34m\u001b[0m\u001b[0m\n\u001b[1;32m      4\u001b[0m \u001b[0mepoch\u001b[0m \u001b[0;34m=\u001b[0m \u001b[0;36m100\u001b[0m\u001b[0;34m\u001b[0m\u001b[0;34m\u001b[0m\u001b[0m\n\u001b[1;32m      5\u001b[0m \u001b[0;34m\u001b[0m\u001b[0m\n",
            "\u001b[0;31mNameError\u001b[0m: name 'RNN' is not defined"
          ]
        }
      ]
    },
    {
      "cell_type": "markdown",
      "source": [
        "#Predict Target Function"
      ],
      "metadata": {
        "id": "y00MSwjNxeI3"
      }
    },
    {
      "cell_type": "code",
      "source": [
        "from matplotlib.transforms import LockableBbox\n",
        "test_X = np.expand_dims(X[:, 0, :],1)\n",
        "\n",
        "list_y_pred = []\n",
        "\n",
        "model.eval()\n",
        "with torch.no_grad():\n",
        "  model.hidden = model.init_hidden(batch_size = 1)\n",
        "\n",
        "  for x in test_X:\n",
        "    x = torch.Tensor(x).float()\n",
        "    y_pred, hidden = model(x)\n",
        "    model.hidden = hidden\n",
        "  list_y_pred.append(y_pred.view(-1).item())\n",
        "\n",
        "  temp_X =list()\n",
        "  temp_X += list(np.squeeze(test_X))[1:]\n",
        "  temp_X.append(y_pred.view(-1).item())\n",
        "  for i in range(2389):\n",
        "    model.hidden = model.init_hidden(batch_size = 1)\n",
        "\n",
        "    temp2_X = torch.unsqueeze(torch.unsqueeze(torch.Tensor(temp_X),1), 1)\n",
        "    for x in temp2_X:\n",
        "      y_pred, hidden = model(x)\n",
        "      model.hidden = hidden\n",
        "    list_y_pred.append(y_pred.view(-1).item())\n",
        "\n",
        "    temp_X.append(y_pred.view(-1).item())\n",
        "    temp_X.pop(0)\n",
        "\n",
        "plt.plot(y, label='actual value')\n",
        "plt.plot(list(range(10, 2400)), list_y_pred, '*', labe='predicted')\n",
        "plt.xlim(0, 40)\n",
        "plt.legend()\n",
        "\n",
        "\n",
        "\n",
        "\n",
        "\n"
      ],
      "metadata": {
        "colab": {
          "base_uri": "https://localhost:8080/",
          "height": 246
        },
        "id": "3ya6KJVXTUgG",
        "outputId": "957d7f62-207e-4d01-b668-635e321d12a2"
      },
      "execution_count": 5,
      "outputs": [
        {
          "output_type": "error",
          "ename": "NameError",
          "evalue": "ignored",
          "traceback": [
            "\u001b[0;31m---------------------------------------------------------------------------\u001b[0m",
            "\u001b[0;31mNameError\u001b[0m                                 Traceback (most recent call last)",
            "\u001b[0;32m<ipython-input-5-b18d6bb5e463>\u001b[0m in \u001b[0;36m<module>\u001b[0;34m()\u001b[0m\n\u001b[1;32m      1\u001b[0m \u001b[0;32mfrom\u001b[0m \u001b[0mmatplotlib\u001b[0m\u001b[0;34m.\u001b[0m\u001b[0mtransforms\u001b[0m \u001b[0;32mimport\u001b[0m \u001b[0mLockableBbox\u001b[0m\u001b[0;34m\u001b[0m\u001b[0;34m\u001b[0m\u001b[0m\n\u001b[0;32m----> 2\u001b[0;31m \u001b[0mtest_X\u001b[0m \u001b[0;34m=\u001b[0m \u001b[0mnp\u001b[0m\u001b[0;34m.\u001b[0m\u001b[0mexpand_dims\u001b[0m\u001b[0;34m(\u001b[0m\u001b[0mX\u001b[0m\u001b[0;34m[\u001b[0m\u001b[0;34m:\u001b[0m\u001b[0;34m,\u001b[0m \u001b[0;36m0\u001b[0m\u001b[0;34m,\u001b[0m \u001b[0;34m:\u001b[0m\u001b[0;34m]\u001b[0m\u001b[0;34m,\u001b[0m\u001b[0;36m1\u001b[0m\u001b[0;34m)\u001b[0m\u001b[0;34m\u001b[0m\u001b[0;34m\u001b[0m\u001b[0m\n\u001b[0m\u001b[1;32m      3\u001b[0m \u001b[0;34m\u001b[0m\u001b[0m\n\u001b[1;32m      4\u001b[0m \u001b[0mlist_y_pred\u001b[0m \u001b[0;34m=\u001b[0m \u001b[0;34m[\u001b[0m\u001b[0;34m]\u001b[0m\u001b[0;34m\u001b[0m\u001b[0;34m\u001b[0m\u001b[0m\n\u001b[1;32m      5\u001b[0m \u001b[0;34m\u001b[0m\u001b[0m\n",
            "\u001b[0;31mNameError\u001b[0m: name 'np' is not defined"
          ]
        }
      ]
    },
    {
      "cell_type": "code",
      "source": [
        ""
      ],
      "metadata": {
        "id": "YODBsnHC4jif"
      },
      "execution_count": null,
      "outputs": []
    }
  ],
  "metadata": {
    "accelerator": "GPU",
    "colab": {
      "collapsed_sections": [],
      "name": "Traffic_RNN.ipynb",
      "provenance": [],
      "include_colab_link": true
    },
    "gpuClass": "standard",
    "kernelspec": {
      "display_name": "Python 3 (ipykernel)",
      "language": "python",
      "name": "python3"
    },
    "language_info": {
      "codemirror_mode": {
        "name": "ipython",
        "version": 3
      },
      "file_extension": ".py",
      "mimetype": "text/x-python",
      "name": "python",
      "nbconvert_exporter": "python",
      "pygments_lexer": "ipython3",
      "version": "3.8.5"
    }
  },
  "nbformat": 4,
  "nbformat_minor": 0
}